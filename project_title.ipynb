{
 "cells": [
  {
   "cell_type": "code",
   "execution_count": null,
   "metadata": {},
   "outputs": [],
   "source": [
    "# 실패한 프로젝트 리스트 수집\n",
    "# 실패한 프로젝트 같은 경우는 프로젝트를 Saved를 하고 난 후 마이페이지에서 프로젝틔 실패여부를 확인 할 수 있음\n"
   ]
  },
  {
   "cell_type": "code",
   "execution_count": null,
   "metadata": {},
   "outputs": [],
   "source": [
    "from selenium import webdriver\n",
    "from selenium.webdriver.common.keys import Keys\n",
    "from bs4 import BeautifulSoup\n",
    "import time\n",
    "fail_title_list=list()#타이틀 스크랩\n",
    "driver = webdriver.Chrome('Desktop/chromedriver')\n",
    "\n",
    "# kickstater 로그인 페이지 사이트로 들어가기\n",
    "driver.get('https://www.kickstarter.com/login?ref=nav')\n",
    "\n",
    "#find_elemnet_by를 이용하여 아이디, 비밀번호 입력하기\n",
    "driver.find_element_by_id('user_session_email').send_keys('ID')\n",
    "driver.find_element_by_id('user_session_password').send_keys('PASSWORD')\n",
    "\n",
    "#아이디, 비밀번호 입력 후, 로그인 버튼의 태그값을 찾아 로그인 하기\n",
    "xpath = \"\"\"//*[@id=\"new_user_session\"]/fieldset/ol/li[3]/input\"\"\"\n",
    "driver.find_element_by_xpath(xpath).click()\n",
    "\n",
    "#프로젝트를 saved한 페이지 링크 URL\n",
    "url=\"https://www.kickstarter.com/profile/saved_projects?ref=user_menu\"\n",
    "\n",
    "driver.get(url)\n",
    "time.sleep(0.2)\n",
    "body = driver.find_element_by_tag_name(\"body\")\n",
    "num = 100\n",
    "\n",
    "\n",
    "# 무한 로드 버튼을 찾아서 끝까지 클릭하기!\n",
    "while num:\n",
    "    body.send_keys(Keys.PAGE_DOWN)\n",
    "    time.sleep(0.1)\n",
    "    num -= 1\n",
    "    try:\n",
    "        driver.find_element_by_xpath(\"\"\"//*[@id=\"react-container\"]/div[2]/div[3]/div/button\"\"\").click()\n",
    "    except:\n",
    "        None\n",
    "\n",
    "        \n",
    "html = driver.page_source\n",
    "soup = BeautifulSoup(html, 'html.parser')\n",
    "\n",
    "# 개발자도구 > COPT > SELECT 부분의 값을 가져와서 프로젝트 타이틀 수집하기\n",
    "notices = soup.select('div > div > div > div > div.h30.pt4.px3.mb1px > div > a > h3')\n",
    "\n",
    "for line in notices:\n",
    "    title=line.get_text()\n",
    "    title=str(title)\n",
    "    title=title.lower()\n",
    "    print(title)\n",
    "    fail_title_list.append(title)"
   ]
  },
  {
   "cell_type": "code",
   "execution_count": null,
   "metadata": {},
   "outputs": [],
   "source": [
    "len(fail_title_list)\n",
    "\n",
    "import pandas as pd\n",
    "df = pd.DataFrame(fail_title_list, columns =['name'])\n",
    "df.to_csv('fail_list.csv',encoding='utf-8-sig')"
   ]
  },
  {
   "cell_type": "code",
   "execution_count": null,
   "metadata": {},
   "outputs": [],
   "source": []
  },
  {
   "cell_type": "code",
   "execution_count": null,
   "metadata": {},
   "outputs": [],
   "source": [
    "#성공한 프로젝트 리스트 수집\n",
    "#성공한 프로젝트는 굳이 SAVED하지 않아도 단순 URL로 상세 페이지로 들어갈 수 있음"
   ]
  },
  {
   "cell_type": "code",
   "execution_count": null,
   "metadata": {},
   "outputs": [],
   "source": [
    "import requests\n",
    "from bs4 import BeautifulSoup\n",
    "from selenium import webdriver\n",
    "driver = webdriver.Chrome('Desktop/chromedriver')\n",
    "title_list=list()#타이틀 스크랩\n",
    "\n",
    "number = [1,2,3,4,5,6,7,8,9,10]\n",
    "for i in number:\n",
    "    url=\"https://www.kickstarter.com/discover/advanced?state=successful&woe_id=0&sort=magic&seed=2653556&page=\"+str(i)\n",
    "\n",
    "    driver.get(url)\n",
    "        \n",
    "    html = driver.page_source\n",
    "    soup = BeautifulSoup(html, 'html.parser')\n",
    "\n",
    "    notices = soup.select('div > div > div > div > div.h30.pt4.px3.mb1px > div > a > h3')\n",
    "\n",
    "    for line in notices:\n",
    "        title=line.get_text()\n",
    "        title=str(title)\n",
    "        title=title.lower()\n",
    "        print(title)\n",
    "        title_list.append(title)"
   ]
  },
  {
   "cell_type": "code",
   "execution_count": null,
   "metadata": {},
   "outputs": [],
   "source": [
    "len(title_list)\n",
    "import pandas as pd\n",
    "df = pd.DataFrame(title_list, columns =['name'])\n",
    "df.to_csv('succed_list.csv',encoding='utf-8-sig')"
   ]
  },
  {
   "cell_type": "code",
   "execution_count": null,
   "metadata": {},
   "outputs": [],
   "source": []
  },
  {
   "cell_type": "code",
   "execution_count": null,
   "metadata": {},
   "outputs": [],
   "source": []
  }
 ],
 "metadata": {
  "kernelspec": {
   "display_name": "Python 3",
   "language": "python",
   "name": "python3"
  },
  "language_info": {
   "codemirror_mode": {
    "name": "ipython",
    "version": 3
   },
   "file_extension": ".py",
   "mimetype": "text/x-python",
   "name": "python",
   "nbconvert_exporter": "python",
   "pygments_lexer": "ipython3",
   "version": "3.7.4"
  }
 },
 "nbformat": 4,
 "nbformat_minor": 2
}
